{
 "cells": [
  {
   "cell_type": "code",
   "execution_count": 2,
   "metadata": {},
   "outputs": [],
   "source": [
    "from utils import load_encoder_hparams_and_params"
   ]
  },
  {
   "cell_type": "code",
   "execution_count": 3,
   "metadata": {},
   "outputs": [
    {
     "name": "stderr",
     "output_type": "stream",
     "text": [
      "Fetching checkpoint: 1.00kb [00:00, 3.52Mb/s]                                                       \n",
      "Fetching encoder.json: 1.04Mb [00:00, 3.59Mb/s]                                                     \n",
      "Fetching hparams.json: 1.00kb [00:00, 6.53Mb/s]                                                     \n",
      "Fetching model.ckpt.data-00000-of-00001: 498Mb [01:31, 5.46Mb/s]                                    \n",
      "Fetching model.ckpt.index: 6.00kb [00:00, 26.1Mb/s]                                                 \n",
      "Fetching model.ckpt.meta: 472kb [00:00, 2.28Mb/s]                                                   \n",
      "Fetching vocab.bpe: 457kb [00:00, 2.27Mb/s]                                                         \n"
     ]
    }
   ],
   "source": [
    "encoder, hparams, params = load_encoder_hparams_and_params(\"124M\", \"models\")"
   ]
  },
  {
   "cell_type": "code",
   "execution_count": 5,
   "metadata": {},
   "outputs": [
    {
     "data": {
      "text/plain": [
       "[3673, 477, 10281, 5806, 1451, 274, 13]"
      ]
     },
     "execution_count": 5,
     "metadata": {},
     "output_type": "execute_result"
    }
   ],
   "source": [
    "ids = encoder.encode(\"Not all heroes wear capes.\")\n",
    "ids"
   ]
  },
  {
   "cell_type": "code",
   "execution_count": 6,
   "metadata": {},
   "outputs": [
    {
     "data": {
      "text/plain": [
       "'Not all heroes wear capes.'"
      ]
     },
     "execution_count": 6,
     "metadata": {},
     "output_type": "execute_result"
    }
   ],
   "source": [
    "encoder.decode(ids)"
   ]
  }
 ],
 "metadata": {
  "kernelspec": {
   "display_name": "base",
   "language": "python",
   "name": "python3"
  },
  "language_info": {
   "codemirror_mode": {
    "name": "ipython",
    "version": 3
   },
   "file_extension": ".py",
   "mimetype": "text/x-python",
   "name": "python",
   "nbconvert_exporter": "python",
   "pygments_lexer": "ipython3",
   "version": "3.11.8"
  }
 },
 "nbformat": 4,
 "nbformat_minor": 2
}
